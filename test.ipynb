{
 "cells": [
  {
   "cell_type": "code",
   "execution_count": 12,
   "metadata": {},
   "outputs": [
    {
     "name": "stdout",
     "output_type": "stream",
     "text": [
      "['WAP001', 'WAP002', 'WAP003', 'WAP004', 'WAP005', 'WAP006', 'WAP007', 'WAP008', 'WAP009', 'WAP010', 'WAP011', 'WAP012', 'WAP013', 'WAP014', 'WAP015', 'WAP016', 'WAP017', 'WAP018', 'WAP019', 'WAP020', 'WAP021', 'WAP022', 'WAP023', 'WAP024', 'WAP025', 'WAP026', 'WAP027', 'WAP028', 'WAP029', 'WAP030', 'WAP031', 'WAP032', 'WAP033', 'WAP034', 'WAP035', 'WAP036', 'WAP037', 'WAP038', 'WAP039', 'WAP040', 'WAP041', 'WAP042', 'WAP043', 'WAP044', 'WAP045', 'WAP046', 'WAP047', 'WAP048', 'WAP049', 'WAP050', 'WAP051', 'WAP052', 'WAP053', 'WAP054', 'WAP055', 'WAP056', 'WAP057', 'WAP058', 'WAP059', 'WAP060', 'WAP061', 'WAP062', 'WAP063', 'WAP064', 'WAP065', 'WAP066', 'WAP067', 'WAP068', 'WAP069', 'WAP070', 'WAP071', 'WAP072', 'WAP073', 'WAP074', 'WAP075', 'WAP076', 'WAP077', 'WAP078', 'WAP079', 'WAP080', 'WAP081', 'WAP082', 'WAP083', 'WAP084', 'WAP085', 'WAP086', 'WAP087', 'WAP088', 'WAP089', 'WAP090', 'WAP091', 'WAP092', 'WAP093', 'WAP094', 'WAP095', 'WAP096', 'WAP097', 'WAP098', 'WAP099', 'WAP100', 'WAP101', 'WAP102', 'WAP103', 'WAP104', 'WAP105', 'WAP106', 'WAP107', 'WAP108', 'WAP109', 'WAP110', 'WAP111', 'WAP112', 'WAP113', 'WAP114', 'WAP115', 'WAP116', 'WAP117', 'WAP118', 'WAP119', 'WAP120', 'WAP121', 'WAP122', 'WAP123', 'WAP124', 'WAP125', 'WAP126', 'WAP127', 'WAP128', 'WAP129', 'WAP130', 'WAP131', 'WAP132', 'WAP133', 'WAP134', 'WAP135', 'WAP136', 'WAP137', 'WAP138', 'WAP139', 'WAP140', 'WAP141', 'WAP142', 'WAP143', 'WAP144', 'WAP145', 'WAP146', 'WAP147', 'WAP148', 'WAP149', 'WAP150', 'WAP151', 'WAP152', 'WAP153', 'WAP154', 'WAP155', 'WAP156', 'WAP157', 'WAP158', 'WAP159', 'WAP160', 'WAP161', 'WAP162', 'WAP163', 'WAP164', 'WAP165', 'WAP166', 'WAP167', 'WAP168', 'WAP169', 'WAP170', 'WAP171', 'WAP172', 'WAP173', 'WAP174', 'WAP175', 'WAP176', 'WAP177', 'WAP178', 'WAP179', 'WAP180', 'WAP181', 'WAP182', 'WAP183', 'WAP184', 'WAP185', 'WAP186', 'WAP187', 'WAP188', 'WAP189', 'WAP190', 'WAP191', 'WAP192', 'WAP193', 'WAP194', 'WAP195', 'WAP196', 'WAP197', 'WAP198', 'WAP199', 'WAP200', 'WAP201', 'WAP202', 'WAP203', 'WAP204', 'WAP205', 'WAP206', 'WAP207', 'WAP208', 'WAP209', 'WAP210', 'WAP211', 'WAP212', 'WAP213', 'WAP214', 'WAP215', 'WAP216', 'WAP217', 'WAP218', 'WAP219', 'WAP220', 'WAP221', 'WAP222', 'WAP223', 'WAP224', 'WAP225', 'WAP226', 'WAP227', 'WAP228', 'WAP229', 'WAP230', 'WAP231', 'WAP232', 'WAP233', 'WAP234', 'WAP235', 'WAP236', 'WAP237', 'WAP238', 'WAP239', 'WAP240', 'WAP241', 'WAP242', 'WAP243', 'WAP244', 'WAP245', 'WAP246', 'WAP247', 'WAP248', 'WAP249', 'WAP250', 'WAP251', 'WAP252', 'WAP253', 'WAP254', 'WAP255', 'WAP256', 'WAP257', 'WAP258', 'WAP259', 'WAP260', 'WAP261', 'WAP262', 'WAP263', 'WAP264', 'WAP265', 'WAP266', 'WAP267', 'WAP268', 'WAP269', 'WAP270', 'WAP271', 'WAP272', 'WAP273', 'WAP274', 'WAP275', 'WAP276', 'WAP277', 'WAP278', 'WAP279', 'WAP280', 'WAP281', 'WAP282', 'WAP283', 'WAP284', 'WAP285', 'WAP286', 'WAP287', 'WAP288', 'WAP289', 'WAP290', 'WAP291', 'WAP292', 'WAP293', 'WAP294', 'WAP295', 'WAP296', 'WAP297', 'WAP298', 'WAP299', 'WAP300', 'WAP301', 'WAP302', 'WAP303', 'WAP304', 'WAP305', 'WAP306', 'WAP307', 'WAP308', 'WAP309', 'WAP310', 'WAP311', 'WAP312', 'WAP313', 'WAP314', 'WAP315', 'WAP316', 'WAP317', 'WAP318', 'WAP319', 'WAP320', 'WAP321', 'WAP322', 'WAP323', 'WAP324', 'WAP325', 'WAP326', 'WAP327', 'WAP328', 'WAP329', 'WAP330', 'WAP331', 'WAP332', 'WAP333', 'WAP334', 'WAP335', 'WAP336', 'WAP337', 'WAP338', 'WAP339', 'WAP340', 'WAP341', 'WAP342', 'WAP343', 'WAP344', 'WAP345', 'WAP346', 'WAP347', 'WAP348', 'WAP349', 'WAP350', 'WAP351', 'WAP352', 'WAP353', 'WAP354', 'WAP355', 'WAP356', 'WAP357', 'WAP358', 'WAP359', 'WAP360', 'WAP361', 'WAP362', 'WAP363', 'WAP364', 'WAP365', 'WAP366', 'WAP367', 'WAP368', 'WAP369', 'WAP370', 'WAP371', 'WAP372', 'WAP373', 'WAP374', 'WAP375', 'WAP376', 'WAP377', 'WAP378', 'WAP379', 'WAP380', 'WAP381', 'WAP382', 'WAP383', 'WAP384', 'WAP385', 'WAP386', 'WAP387', 'WAP388', 'WAP389', 'WAP390', 'WAP391', 'WAP392', 'WAP393', 'WAP394', 'WAP395', 'WAP396', 'WAP397', 'WAP398', 'WAP399', 'WAP400', 'WAP401', 'WAP402', 'WAP403', 'WAP404', 'WAP405', 'WAP406', 'WAP407', 'WAP408', 'WAP409', 'WAP410', 'WAP411', 'WAP412', 'WAP413', 'WAP414', 'WAP415', 'WAP416', 'WAP417', 'WAP418', 'WAP419', 'WAP420', 'WAP421', 'WAP422', 'WAP423', 'WAP424', 'WAP425', 'WAP426', 'WAP427', 'WAP428', 'WAP429', 'WAP430', 'WAP431', 'WAP432', 'WAP433', 'WAP434', 'WAP435', 'WAP436', 'WAP437', 'WAP438', 'WAP439', 'WAP440', 'WAP441', 'WAP442', 'WAP443', 'WAP444', 'WAP445', 'WAP446', 'WAP447', 'WAP448', 'WAP449', 'WAP450', 'WAP451', 'WAP452', 'WAP453', 'WAP454', 'WAP455', 'WAP456', 'WAP457', 'WAP458', 'WAP459', 'WAP460', 'WAP461', 'WAP462', 'WAP463', 'WAP464', 'WAP465', 'WAP466', 'WAP467', 'WAP468', 'WAP469', 'WAP470', 'WAP471', 'WAP472', 'WAP473', 'WAP474', 'WAP475', 'WAP476', 'WAP477', 'WAP478', 'WAP479', 'WAP480', 'WAP481', 'WAP482', 'WAP483', 'WAP484', 'WAP485', 'WAP486', 'WAP487', 'WAP488', 'WAP489', 'WAP490', 'WAP491', 'WAP492', 'WAP493', 'WAP494', 'WAP495', 'WAP496', 'WAP497', 'WAP498', 'WAP499', 'WAP500', 'WAP501', 'WAP502', 'WAP503', 'WAP504', 'WAP505', 'WAP506', 'WAP507', 'WAP508', 'WAP509', 'WAP510', 'WAP511', 'WAP512', 'WAP513', 'WAP514', 'WAP515', 'WAP516', 'WAP517', 'WAP518', 'WAP519', 'WAP520', 'LONGITUDE', 'LATITUDE', 'FLOOR', 'BUILDINGID', 'SPACEID', 'RELATIVEPOSITION', 'USERID', 'PHONEID', 'TIMESTAMP']\n",
      "Format training: 19937*529\n",
      "Format validation: 1111*529\n"
     ]
    }
   ],
   "source": [
    "training = open('./TrainingData.csv', encoding='utf8').read().strip().split('\\n')\n",
    "validation = open('./ValidationData.csv', encoding='utf8').read().strip().split('\\n')\n",
    "\n",
    "labels = training.pop(0).split(',')\n",
    "validation.pop(0)\n",
    "\n",
    "t = []\n",
    "v = []\n",
    "for row in training:\n",
    "  t.append(row.split(','))\n",
    "\n",
    "for row in validation:\n",
    "  v.append(row.split(','))\n",
    "\n",
    "print(labels)\n",
    "print(f\"Format training: {len(t)}*{len(t[0])}\")\n",
    "print(f\"Format validation: {len(v)}*{len(v[0])}\")"
   ]
  },
  {
   "cell_type": "code",
   "execution_count": 13,
   "metadata": {},
   "outputs": [
    {
     "name": "stdout",
     "output_type": "stream",
     "text": [
      "['WAP001', 'WAP002', 'WAP003', 'WAP004', 'WAP005', 'WAP006', 'WAP007', 'WAP008', 'WAP009', 'WAP010', 'WAP011', 'WAP012', 'WAP013', 'WAP014', 'WAP015', 'WAP016', 'WAP017', 'WAP018', 'WAP019', 'WAP020', 'WAP021', 'WAP022', 'WAP023', 'WAP024', 'WAP025', 'WAP026', 'WAP027', 'WAP028', 'WAP029', 'WAP030', 'WAP031', 'WAP032', 'WAP033', 'WAP034', 'WAP035', 'WAP036', 'WAP037', 'WAP038', 'WAP039', 'WAP040', 'WAP041', 'WAP042', 'WAP043', 'WAP044', 'WAP045', 'WAP046', 'WAP047', 'WAP048', 'WAP049', 'WAP050', 'WAP051', 'WAP052', 'WAP053', 'WAP054', 'WAP055', 'WAP056', 'WAP057', 'WAP058', 'WAP059', 'WAP060', 'WAP061', 'WAP062', 'WAP063', 'WAP064', 'WAP065', 'WAP066', 'WAP067', 'WAP068', 'WAP069', 'WAP070', 'WAP071', 'WAP072', 'WAP073', 'WAP074', 'WAP075', 'WAP076', 'WAP077', 'WAP078', 'WAP079', 'WAP080', 'WAP081', 'WAP082', 'WAP083', 'WAP084', 'WAP085', 'WAP086', 'WAP087', 'WAP088', 'WAP089', 'WAP090', 'WAP091', 'WAP092', 'WAP093', 'WAP094', 'WAP095', 'WAP096', 'WAP097', 'WAP098', 'WAP099', 'WAP100', 'WAP101', 'WAP102', 'WAP103', 'WAP104', 'WAP105', 'WAP106', 'WAP107', 'WAP108', 'WAP109', 'WAP110', 'WAP111', 'WAP112', 'WAP113', 'WAP114', 'WAP115', 'WAP116', 'WAP117', 'WAP118', 'WAP119', 'WAP120', 'WAP121', 'WAP122', 'WAP123', 'WAP124', 'WAP125', 'WAP126', 'WAP127', 'WAP128', 'WAP129', 'WAP130', 'WAP131', 'WAP132', 'WAP133', 'WAP134', 'WAP135', 'WAP136', 'WAP137', 'WAP138', 'WAP139', 'WAP140', 'WAP141', 'WAP142', 'WAP143', 'WAP144', 'WAP145', 'WAP146', 'WAP147', 'WAP148', 'WAP149', 'WAP150', 'WAP151', 'WAP152', 'WAP153', 'WAP154', 'WAP155', 'WAP156', 'WAP157', 'WAP158', 'WAP159', 'WAP160', 'WAP161', 'WAP162', 'WAP163', 'WAP164', 'WAP165', 'WAP166', 'WAP167', 'WAP168', 'WAP169', 'WAP170', 'WAP171', 'WAP172', 'WAP173', 'WAP174', 'WAP175', 'WAP176', 'WAP177', 'WAP178', 'WAP179', 'WAP180', 'WAP181', 'WAP182', 'WAP183', 'WAP184', 'WAP185', 'WAP186', 'WAP187', 'WAP188', 'WAP189', 'WAP190', 'WAP191', 'WAP192', 'WAP193', 'WAP194', 'WAP195', 'WAP196', 'WAP197', 'WAP198', 'WAP199', 'WAP200', 'WAP201', 'WAP202', 'WAP203', 'WAP204', 'WAP205', 'WAP206', 'WAP207', 'WAP208', 'WAP209', 'WAP210', 'WAP211', 'WAP212', 'WAP213', 'WAP214', 'WAP215', 'WAP216', 'WAP217', 'WAP218', 'WAP219', 'WAP220', 'WAP221', 'WAP222', 'WAP223', 'WAP224', 'WAP225', 'WAP226', 'WAP227', 'WAP228', 'WAP229', 'WAP230', 'WAP231', 'WAP232', 'WAP233', 'WAP234', 'WAP235', 'WAP236', 'WAP237', 'WAP238', 'WAP239', 'WAP240', 'WAP241', 'WAP242', 'WAP243', 'WAP244', 'WAP245', 'WAP246', 'WAP247', 'WAP248', 'WAP249', 'WAP250', 'WAP251', 'WAP252', 'WAP253', 'WAP254', 'WAP255', 'WAP256', 'WAP257', 'WAP258', 'WAP259', 'WAP260', 'WAP261', 'WAP262', 'WAP263', 'WAP264', 'WAP265', 'WAP266', 'WAP267', 'WAP268', 'WAP269', 'WAP270', 'WAP271', 'WAP272', 'WAP273', 'WAP274', 'WAP275', 'WAP276', 'WAP277', 'WAP278', 'WAP279', 'WAP280', 'WAP281', 'WAP282', 'WAP283', 'WAP284', 'WAP285', 'WAP286', 'WAP287', 'WAP288', 'WAP289', 'WAP290', 'WAP291', 'WAP292', 'WAP293', 'WAP294', 'WAP295', 'WAP296', 'WAP297', 'WAP298', 'WAP299', 'WAP300', 'WAP301', 'WAP302', 'WAP303', 'WAP304', 'WAP305', 'WAP306', 'WAP307', 'WAP308', 'WAP309', 'WAP310', 'WAP311', 'WAP312', 'WAP313', 'WAP314', 'WAP315', 'WAP316', 'WAP317', 'WAP318', 'WAP319', 'WAP320', 'WAP321', 'WAP322', 'WAP323', 'WAP324', 'WAP325', 'WAP326', 'WAP327', 'WAP328', 'WAP329', 'WAP330', 'WAP331', 'WAP332', 'WAP333', 'WAP334', 'WAP335', 'WAP336', 'WAP337', 'WAP338', 'WAP339', 'WAP340', 'WAP341', 'WAP342', 'WAP343', 'WAP344', 'WAP345', 'WAP346', 'WAP347', 'WAP348', 'WAP349', 'WAP350', 'WAP351', 'WAP352', 'WAP353', 'WAP354', 'WAP355', 'WAP356', 'WAP357', 'WAP358', 'WAP359', 'WAP360', 'WAP361', 'WAP362', 'WAP363', 'WAP364', 'WAP365', 'WAP366', 'WAP367', 'WAP368', 'WAP369', 'WAP370', 'WAP371', 'WAP372', 'WAP373', 'WAP374', 'WAP375', 'WAP376', 'WAP377', 'WAP378', 'WAP379', 'WAP380', 'WAP381', 'WAP382', 'WAP383', 'WAP384', 'WAP385', 'WAP386', 'WAP387', 'WAP388', 'WAP389', 'WAP390', 'WAP391', 'WAP392', 'WAP393', 'WAP394', 'WAP395', 'WAP396', 'WAP397', 'WAP398', 'WAP399', 'WAP400', 'WAP401', 'WAP402', 'WAP403', 'WAP404', 'WAP405', 'WAP406', 'WAP407', 'WAP408', 'WAP409', 'WAP410', 'WAP411', 'WAP412', 'WAP413', 'WAP414', 'WAP415', 'WAP416', 'WAP417', 'WAP418', 'WAP419', 'WAP420', 'WAP421', 'WAP422', 'WAP423', 'WAP424', 'WAP425', 'WAP426', 'WAP427', 'WAP428', 'WAP429', 'WAP430', 'WAP431', 'WAP432', 'WAP433', 'WAP434', 'WAP435', 'WAP436', 'WAP437', 'WAP438', 'WAP439', 'WAP440', 'WAP441', 'WAP442', 'WAP443', 'WAP444', 'WAP445', 'WAP446', 'WAP447', 'WAP448', 'WAP449', 'WAP450', 'WAP451', 'WAP452', 'WAP453', 'WAP454', 'WAP455', 'WAP456', 'WAP457', 'WAP458', 'WAP459', 'WAP460', 'WAP461', 'WAP462', 'WAP463', 'WAP464', 'WAP465', 'WAP466', 'WAP467', 'WAP468', 'WAP469', 'WAP470', 'WAP471', 'WAP472', 'WAP473', 'WAP474', 'WAP475', 'WAP476', 'WAP477', 'WAP478', 'WAP479', 'WAP480', 'WAP481', 'WAP482', 'WAP483', 'WAP484', 'WAP485', 'WAP486', 'WAP487', 'WAP488', 'WAP489', 'WAP490', 'WAP491', 'WAP492', 'WAP493', 'WAP494', 'WAP495', 'WAP496', 'WAP497', 'WAP498', 'WAP499', 'WAP500', 'WAP501', 'WAP502', 'WAP503', 'WAP504', 'WAP505', 'WAP506', 'WAP507', 'WAP508', 'WAP509', 'WAP510', 'WAP511', 'WAP512', 'WAP513', 'WAP514', 'WAP515', 'WAP516', 'WAP517', 'WAP518', 'WAP519', 'WAP520']\n",
      "Format training: 19937*520\n",
      "Format validation: 1111*520\n"
     ]
    }
   ],
   "source": [
    "# Build X\n",
    "# X : [WAP001, ..., WAP520, floor, buildingId, spaceId,\n",
    "#     relativePos, UserId, PhoneId, Timestamp]\n",
    "\n",
    "x_labels = labels[:520]\n",
    "x_t = [x[:520] for x in t]\n",
    "x_v = [x[:520] for x in v]\n",
    "\n",
    "x_t = [[int(j) for j in i] for i in x_t]\n",
    "x_v = [[int(j) for j in i] for i in x_v]\n",
    "\n",
    "print(x_labels)\n",
    "print(f\"Format training: {len(x_t)}*{len(x_t[0])}\")\n",
    "print(f\"Format validation: {len(x_v)}*{len(x_v[0])}\")"
   ]
  },
  {
   "cell_type": "code",
   "execution_count": 14,
   "metadata": {},
   "outputs": [
    {
     "name": "stdout",
     "output_type": "stream",
     "text": [
      "['LONGITUDE', 'LATITUDE']\n",
      "[-7541.2642999999225, 4864920.7782000005]\n",
      "[-7515.916799399859, 4864889.6629166845]\n"
     ]
    }
   ],
   "source": [
    "# Build Y\n",
    "# Y : [Lat, Lon]\n",
    "\n",
    "y_labels = labels[520:522]\n",
    "y_t = [x[520:522] for x in t]\n",
    "y_v = [x[520:522] for x in v]\n",
    "\n",
    "y_t = [[float(j) for j in i] for i in y_t]\n",
    "y_v = [[float(j) for j in i] for i in y_v]\n",
    "\n",
    "print(y_labels)\n",
    "print(y_t[0])\n",
    "print(y_v[0])"
   ]
  },
  {
   "cell_type": "code",
   "execution_count": 15,
   "metadata": {},
   "outputs": [
    {
     "name": "stdout",
     "output_type": "stream",
     "text": [
      "520\n"
     ]
    }
   ],
   "source": [
    "from numpy import array, float32, delete, concatenate\n",
    "\n",
    "X_t = array(x_t, dtype=float32)\n",
    "Y_t = array(y_t, dtype=float32)\n",
    "X_v = array(x_v, dtype=float32)\n",
    "Y_v = array(y_v, dtype=float32)\n",
    "\n",
    "print(X_t.shape[1])"
   ]
  },
  {
   "cell_type": "code",
   "execution_count": 16,
   "metadata": {},
   "outputs": [],
   "source": [
    "# Remove unused data\n",
    "used = [0 for x in range(X_t.shape[1])]\n",
    "\n",
    "for col in range(X_t.shape[1]):\n",
    "  for row in range(X_t.shape[0]):\n",
    "    if X_t[row][col] != 100:\n",
    "      used[col] = 1\n",
    "      break\n",
    "for col in range(X_v.shape[1]):\n",
    "  for row in range(X_v.shape[0]):\n",
    "    if X_v[row][col] != 100:\n",
    "      used[col] = 1\n",
    "      break\n",
    "\n",
    "for i, n in enumerate(used):\n",
    "  if n == 0:\n",
    "    X_t = delete(X_t, i, 1)\n",
    "    X_v = delete(X_v, i, 1)"
   ]
  },
  {
   "cell_type": "code",
   "execution_count": 17,
   "metadata": {},
   "outputs": [
    {
     "name": "stdout",
     "output_type": "stream",
     "text": [
      "Before norm: [100. 100. 100. 100. 100. 100. 100. 100. 100. 100. 100. 100. 100. 100.\n",
      " 100. 100. 100. 100. 100. 100. 100. 100. 100. 100. 100. 100. 100. 100.\n",
      " 100. 100. 100. 100. 100. 100. 100. 100. 100. 100. 100. 100. 100. 100.\n",
      " 100. 100. 100. 100. 100. 100. 100. 100. 100. 100. 100. 100. 100. 100.\n",
      " 100. 100. 100. 100. 100. 100. 100. 100. 100. 100. 100. 100. 100. 100.\n",
      " 100. 100. 100. 100. 100. 100. 100. 100. 100. 100. 100. 100. 100. 100.\n",
      " 100. 100. 100. 100. 100. -67. -68. 100. 100. 100. 100. 100. 100. 100.\n",
      " 100. 100. 100. 100. -68. -68. -78. -79. 100. 100. 100. 100. 100. 100.\n",
      " 100. 100. 100. 100. 100. 100. 100. 100.]\n",
      "After norm: [0.    0.    0.    0.    0.    0.    0.    0.    0.    0.    0.    0.\n",
      " 0.    0.    0.    0.    0.    0.    0.    0.    0.    0.    0.    0.\n",
      " 0.    0.    0.    0.    0.    0.    0.    0.    0.    0.    0.    0.\n",
      " 0.    0.    0.    0.    0.    0.    0.    0.    0.    0.    0.    0.\n",
      " 0.    0.    0.    0.    0.    0.    0.    0.    0.    0.    0.    0.\n",
      " 0.    0.    0.    0.    0.    0.    0.    0.    0.    0.    0.    0.\n",
      " 0.    0.    0.    0.    0.    0.    0.    0.    0.    0.    0.    0.\n",
      " 0.    0.    0.    0.    0.    0.835 0.84  0.    0.    0.    0.    0.\n",
      " 0.    0.    0.    0.    0.    0.    0.84  0.84  0.89  0.895 0.    0.\n",
      " 0.    0.    0.    0.    0.    0.    0.    0.    0.    0.    0.    0.   ]\n"
     ]
    }
   ],
   "source": [
    "# Normalize X\n",
    "from copy import deepcopy\n",
    "max_str = 100\n",
    "min_str = -100\n",
    "\n",
    "def norm_X(row):\n",
    "  row2 = deepcopy(row)\n",
    "  for i, x in enumerate(row):\n",
    "    row2[i] = (100 - x)/200\n",
    "  return row2\n",
    "\n",
    "def de_norm_X(row):\n",
    "  row2 = deepcopy(row)\n",
    "  for i, x in enumerate(row):\n",
    "    row2[i] = 200*x - 100\n",
    "  return row2\n",
    "\n",
    "print(f\"Before norm: {X_t[0][:120]}\")\n",
    "\n",
    "for row in range(Y_t.shape[0]):\n",
    "  X_t[row] = norm_X(X_t[row])\n",
    "for row in range(Y_v.shape[0]):\n",
    "  X_v[row] = norm_X(X_v[row])\n",
    "\n",
    "print(f\"After norm: {X_t[0][:120]}\")"
   ]
  },
  {
   "cell_type": "code",
   "execution_count": 18,
   "metadata": {},
   "outputs": [
    {
     "name": "stdout",
     "output_type": "stream",
     "text": [
      "Before norm: [[  -7541.264  4864921.    ]\n",
      " [  -7536.621  4864934.    ]\n",
      " [  -7519.1523 4864949.5   ]\n",
      " [  -7524.5703 4864934.    ]\n",
      " [  -7632.1436 4864982.    ]]\n",
      "After norm: [[0.39044273 0.6452206 ]\n",
      " [0.40216315 0.6930147 ]\n",
      " [0.44625917 0.75      ]\n",
      " [0.4325827  0.6930147 ]\n",
      " [0.16103756 0.8694853 ]]\n"
     ]
    }
   ],
   "source": [
    "# Normalize Y\n",
    "from copy import deepcopy\n",
    "min_lat = min([y[0] for y in concatenate((Y_t, Y_v), axis=0)])\n",
    "max_lat = max([y[0] for y in concatenate((Y_t, Y_v), axis=0)])\n",
    "min_lon = min([y[1] for y in concatenate((Y_t, Y_v), axis=0)])\n",
    "max_lon = max([y[1] for y in concatenate((Y_t, Y_v), axis=0)])\n",
    "\n",
    "lat_fac = max_lat - min_lat\n",
    "lon_fac = max_lon - min_lon\n",
    "\n",
    "def norm_Y(pos):\n",
    "  pos2 = deepcopy(pos)\n",
    "  pos2[0] = (pos[0] - min_lat) / lat_fac\n",
    "  pos2[1] = (pos[1] - min_lon) / lon_fac\n",
    "  return pos2\n",
    "\n",
    "def de_norm_Y(pos):\n",
    "  pos2 = deepcopy(pos)\n",
    "  pos2[0] = pos[0]*lat_fac + min_lat\n",
    "  pos2[1] = pos[1]*lon_fac + min_lon\n",
    "  return pos2\n",
    "\n",
    "print(f\"Before norm: {Y_t[:5]}\")\n",
    "\n",
    "# Used later when plotting\n",
    "Y_t_base = deepcopy(Y_t)\n",
    "Y_v_base = deepcopy(Y_v)\n",
    "\n",
    "for row in range(Y_t.shape[0]):\n",
    "  Y_t[row] = norm_Y(Y_t[row])\n",
    "for row in range(Y_v.shape[0]):\n",
    "  Y_v[row] = norm_Y(Y_v[row])\n",
    "\n",
    "print(f\"After norm: {Y_t[:5]}\")"
   ]
  },
  {
   "cell_type": "code",
   "execution_count": 19,
   "metadata": {},
   "outputs": [
    {
     "name": "stdout",
     "output_type": "stream",
     "text": [
      "Model: \"sequential_1\"\n",
      "_________________________________________________________________\n",
      " Layer (type)                Output Shape              Param #   \n",
      "=================================================================\n",
      " dense_4 (Dense)             (None, 256)               133376    \n",
      "                                                                 \n",
      " dense_5 (Dense)             (None, 128)               32896     \n",
      "                                                                 \n",
      " dense_6 (Dense)             (None, 64)                8256      \n",
      "                                                                 \n",
      " dense_7 (Dense)             (None, 2)                 130       \n",
      "                                                                 \n",
      "=================================================================\n",
      "Total params: 174,658\n",
      "Trainable params: 174,658\n",
      "Non-trainable params: 0\n",
      "_________________________________________________________________\n"
     ]
    }
   ],
   "source": [
    "from keras.models import Sequential\n",
    "from keras.layers import Dense\n",
    "from keras.optimizers import Adam\n",
    "\n",
    "input_dim = X_t.shape[1]\n",
    "output_dim = Y_t.shape[1]\n",
    "\n",
    "model = Sequential(\n",
    "  [\n",
    "    Dense(256, activation='relu', input_dim=input_dim),\n",
    "    Dense(128, activation='softmax'),\n",
    "    Dense(64, activation='relu'),\n",
    "    Dense(output_dim, activation='sigmoid')\n",
    "  ]\n",
    ")\n",
    "model.compile(loss='mean_absolute_error', optimizer=Adam(learning_rate=0.001), metrics=['accuracy'])\n",
    "model.summary()"
   ]
  },
  {
   "cell_type": "code",
   "execution_count": 20,
   "metadata": {},
   "outputs": [
    {
     "name": "stdout",
     "output_type": "stream",
     "text": [
      "Epoch 1/10\n",
      "624/624 [==============================] - 1s 2ms/step - loss: 0.0587 - accuracy: 0.9655\n",
      "Epoch 2/10\n",
      "624/624 [==============================] - 1s 2ms/step - loss: 0.0206 - accuracy: 0.9921\n",
      "Epoch 3/10\n",
      "624/624 [==============================] - 1s 2ms/step - loss: 0.0171 - accuracy: 0.9932\n",
      "Epoch 4/10\n",
      "624/624 [==============================] - 1s 2ms/step - loss: 0.0151 - accuracy: 0.9935\n",
      "Epoch 5/10\n",
      "624/624 [==============================] - 1s 2ms/step - loss: 0.0141 - accuracy: 0.9941\n",
      "Epoch 6/10\n",
      "624/624 [==============================] - 1s 2ms/step - loss: 0.0133 - accuracy: 0.9944\n",
      "Epoch 7/10\n",
      "624/624 [==============================] - 1s 2ms/step - loss: 0.0126 - accuracy: 0.9943\n",
      "Epoch 8/10\n",
      "624/624 [==============================] - 1s 2ms/step - loss: 0.0121 - accuracy: 0.9942\n",
      "Epoch 9/10\n",
      "624/624 [==============================] - 1s 2ms/step - loss: 0.0116 - accuracy: 0.9948\n",
      "Epoch 10/10\n",
      "624/624 [==============================] - 1s 2ms/step - loss: 0.0111 - accuracy: 0.9950\n"
     ]
    }
   ],
   "source": [
    "history = model.fit(X_t, Y_t, epochs=10)"
   ]
  },
  {
   "cell_type": "code",
   "execution_count": 21,
   "metadata": {},
   "outputs": [
    {
     "name": "stdout",
     "output_type": "stream",
     "text": [
      "624/624 [==============================] - 1s 984us/step - loss: 0.0106 - accuracy: 0.9949\n"
     ]
    },
    {
     "data": {
      "text/plain": [
       "[0.010636142455041409, 0.9948838949203491]"
      ]
     },
     "execution_count": 21,
     "metadata": {},
     "output_type": "execute_result"
    }
   ],
   "source": [
    "model.evaluate(X_t, Y_t)"
   ]
  },
  {
   "cell_type": "code",
   "execution_count": 22,
   "metadata": {},
   "outputs": [
    {
     "name": "stdout",
     "output_type": "stream",
     "text": [
      "624/624 [==============================] - 1s 922us/step\n",
      "Mean misclassification distance test data (m): 5.520920017561142\n",
      "35/35 [==============================] - 0s 1ms/step\n",
      "Mean misclassification distance validation data (m): 11.759883603667216\n"
     ]
    }
   ],
   "source": [
    "# Predict test data\n",
    "from math import sqrt\n",
    "\n",
    "def pred_mis_meter(pred, truth):\n",
    "  pred_m = de_norm_Y(pred)\n",
    "  truth_m = de_norm_Y(truth)\n",
    "  return sqrt((pred_m[0] - truth_m[0])**2 + (pred_m[1] - truth_m[1])**2)\n",
    "\n",
    "pred_t = model.predict(X_t)\n",
    "mis_t = 0\n",
    "for i, Y_pred in enumerate(pred_t):\n",
    "  mis_t += pred_mis_meter(Y_pred, Y_t[i])\n",
    "mean_t = mis_t / X_t.shape[0]\n",
    "print(f\"Mean misclassification distance test data (m): {mean_t}\")\n",
    "\n",
    "pred_v = model.predict(X_v)\n",
    "mis_v = 0\n",
    "for i, Y_pred in enumerate(pred_v):\n",
    "  mis_v += pred_mis_meter(Y_pred, Y_v[i])\n",
    "mean_v = mis_v / X_v.shape[0]\n",
    "print(f\"Mean misclassification distance validation data (m): {mean_v}\")"
   ]
  },
  {
   "cell_type": "code",
   "execution_count": 33,
   "metadata": {},
   "outputs": [
    {
     "data": {
      "image/png": "[encoded data removed]",
      "text/plain": [
       "<Figure size 640x480 with 1 Axes>"
      ]
     },
     "metadata": {},
     "output_type": "display_data"
    }
   ],
   "source": [
    "# Plot results\n",
    "import matplotlib.pyplot as plt\n",
    "\n",
    "pred_v_base = []\n",
    "for Y_pred in pred_v:\n",
    "  pred_v_base.append(de_norm_Y(Y_pred))\n",
    "pred_v_base = array(pred_v_base)\n",
    "\n",
    "plt.scatter(Y_v_base[:50, 0], Y_v_base[:50, 1],\n",
    "         marker= \"*\", label= \"Ground truth\", color= \"green\")\n",
    "\n",
    "plt.scatter(pred_v_base[:50, 0], pred_v_base[:50, 1],\n",
    "         marker= \".\", label= \"Predicted position\", color= \"blue\")\n",
    "  \n",
    "# naming the x axis\n",
    "plt.xlabel('Meters')\n",
    "# naming the y axis\n",
    "plt.ylabel('Meters')\n",
    "  \n",
    "# giving a title to my graph\n",
    "plt.title('Geo-positioning prediction for validation data')\n",
    "  \n",
    "# function to show the plot\n",
    "plt.show()"
   ]
  },
  {
   "cell_type": "code",
   "execution_count": null,
   "metadata": {},
   "outputs": [],
   "source": []
  }
 ],
 "metadata": {
  "kernelspec": {
   "display_name": "Python 3",
   "language": "python",
   "name": "python3"
  },
  "language_info": {
   "codemirror_mode": {
    "name": "ipython",
    "version": 3
   },
   "file_extension": ".py",
   "mimetype": "text/x-python",
   "name": "python",
   "nbconvert_exporter": "python",
   "pygments_lexer": "ipython3",
   "version": "3.10.9"
  },
  "orig_nbformat": 4
 },
 "nbformat": 4,
 "nbformat_minor": 2
}
